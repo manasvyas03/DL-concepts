{
 "cells": [
  {
   "cell_type": "code",
   "execution_count": 5,
   "metadata": {},
   "outputs": [
    {
     "name": "stdout",
     "output_type": "stream",
     "text": [
      "Epoch 0, Cost: 1.0411171565854576\n",
      "Epoch 1000, Cost: 0.14143108040558525\n",
      "Epoch 2000, Cost: 0.08095250771901927\n",
      "Epoch 3000, Cost: 0.056207349805814766\n",
      "Epoch 4000, Cost: 0.042863809276964954\n",
      "Epoch 5000, Cost: 0.03456226247593251\n",
      "Epoch 6000, Cost: 0.02891682052429903\n",
      "Epoch 7000, Cost: 0.024836430634352685\n",
      "Epoch 8000, Cost: 0.02175340281827015\n",
      "Epoch 9000, Cost: 0.019343968175374177\n",
      "Epoch 10000, Cost: 0.0174103055595195\n",
      "\n",
      "Predictions after training:\n",
      "[[0.]\n",
      " [0.]\n",
      " [0.]\n",
      " [1.]]\n",
      "Accuracy: 100.00%\n"
     ]
    }
   ],
   "source": [
    "import numpy as np\n",
    "\n",
    "def sigmoid(x):\n",
    "    return 1 / (1 + np.exp(-x))\n",
    "\n",
    "def sigmoid_derivative(x):\n",
    "    return x * (1 - x)\n",
    "\n",
    "def binary_cross_entropy(y_true, y_pred):\n",
    "    m = y_true.shape[0]\n",
    "    return -np.sum(y_true * np.log(y_pred) + (1 - y_true) * np.log(1 - y_pred)) / m\n",
    "\n",
    "# Training data (XOR problem)\n",
    "X = np.array([[0, 0], [0, 1], [1, 0], [1, 1]])  \n",
    "y = np.array([[0], [0], [0], [1]])              \n",
    "\n",
    "# Initialize weights and bias\n",
    "np.random.seed(0)\n",
    "weights = np.random.rand(2, 1)\n",
    "bias = np.random.rand(1)\n",
    "\n",
    "learning_rate = 0.1\n",
    "epochs = 10001\n",
    "\n",
    "# Training loop\n",
    "for epoch in range(epochs):\n",
    "    # Forward pass\n",
    "    Z = np.dot(X, weights) + bias\n",
    "    A = sigmoid(Z)\n",
    "    \n",
    "    # Compute cost\n",
    "    cost = binary_cross_entropy(y, A)\n",
    "    \n",
    "    # Backward pass (gradient descent)\n",
    "    dZ = A - y\n",
    "    dW = np.dot(X.T, dZ) / y.shape[0]\n",
    "    dB = np.sum(dZ) / y.shape[0]\n",
    "    \n",
    "    # Update weights and bias\n",
    "    weights -= learning_rate * dW\n",
    "    bias -= learning_rate * dB\n",
    "    \n",
    "    # Print cost every 1000 epochs\n",
    "    if epoch % 1000 == 0:\n",
    "        print(f\"Epoch {epoch}, Cost: {cost}\")\n",
    "\n",
    "# Test the trained network\n",
    "test_input = np.array([[0, 0], [0, 1], [1, 0], [1, 1]])\n",
    "predictions = sigmoid(np.dot(test_input, weights) + bias)\n",
    "rounded_predictions = np.round(predictions)\n",
    "\n",
    "# Calculate accuracy\n",
    "accuracy = np.mean(rounded_predictions == y) * 100\n",
    "print(\"\\nPredictions after training:\")\n",
    "print(rounded_predictions)\n",
    "print(f\"Accuracy: {accuracy:.2f}%\")\n"
   ]
  }
 ],
 "metadata": {
  "kernelspec": {
   "display_name": "Python 3",
   "language": "python",
   "name": "python3"
  },
  "language_info": {
   "codemirror_mode": {
    "name": "ipython",
    "version": 3
   },
   "file_extension": ".py",
   "mimetype": "text/x-python",
   "name": "python",
   "nbconvert_exporter": "python",
   "pygments_lexer": "ipython3",
   "version": "3.12.2"
  }
 },
 "nbformat": 4,
 "nbformat_minor": 2
}
