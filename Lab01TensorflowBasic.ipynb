{
  "cells": [
    {
      "cell_type": "code",
      "execution_count": 1,
      "metadata": {
        "id": "-VfNxgyeilBv"
      },
      "outputs": [],
      "source": [
        "import tensorflow as tf\n",
        "import numpy as np"
      ]
    },
    {
      "cell_type": "code",
      "execution_count": 2,
      "metadata": {
        "colab": {
          "base_uri": "https://localhost:8080/"
        },
        "id": "OJ-yE4sLiuJq",
        "outputId": "798c0660-3691-4178-8e24-8b62e0c70811"
      },
      "outputs": [
        {
          "name": "stdout",
          "output_type": "stream",
          "text": [
            "Matrix 1:\n",
            " [[4 6 4 3 6 2 6 4 8 5]\n",
            " [3 3 4 5 3 4 1 1 9 4]\n",
            " [1 2 9 6 4 1 2 8 4 5]\n",
            " [5 9 5 3 8 2 3 1 5 1]\n",
            " [5 2 2 4 8 1 1 6 3 9]\n",
            " [7 3 5 8 6 8 7 7 7 1]\n",
            " [9 6 4 5 5 5 5 8 9 1]\n",
            " [3 7 9 7 2 8 4 9 9 1]\n",
            " [1 9 3 5 5 7 1 3 8 8]\n",
            " [5 7 9 2 7 7 7 9 8 9]]\n",
            "Matrix 2:\n",
            " [[9 8 5 9 8 5 4 4 4 5]\n",
            " [3 1 6 1 5 5 6 8 8 9]\n",
            " [1 5 5 4 1 3 7 9 6 8]\n",
            " [4 8 7 5 4 9 9 4 9 7]\n",
            " [5 7 3 3 2 2 9 6 3 9]\n",
            " [2 3 9 1 4 1 9 6 7 5]\n",
            " [7 7 6 6 8 5 2 3 1 1]\n",
            " [9 6 5 3 6 6 6 5 9 2]\n",
            " [2 6 7 7 6 5 7 7 1 1]\n",
            " [5 1 4 8 3 1 5 5 9 7]]\n"
          ]
        }
      ],
      "source": [
        "# Generate two 10x10 matrices with random numbers\n",
        "matrix1 = np.random.randint(1, 10, size=(10, 10))\n",
        "matrix2 = np.random.randint(1, 10, size=(10, 10))\n",
        "\n",
        "print(\"Matrix 1:\\n\", matrix1)\n",
        "print(\"Matrix 2:\\n\", matrix2)"
      ]
    },
    {
      "cell_type": "code",
      "execution_count": 3,
      "metadata": {
        "colab": {
          "base_uri": "https://localhost:8080/"
        },
        "id": "5VfAvBEQi0G_",
        "outputId": "8222fcc3-aac6-4c8f-be81-1fc23c89b555"
      },
      "outputs": [
        {
          "name": "stdout",
          "output_type": "stream",
          "text": [
            "Tensor 1:\n",
            " tf.Tensor(\n",
            "[[4 6 4 3 6 2 6 4 8 5]\n",
            " [3 3 4 5 3 4 1 1 9 4]\n",
            " [1 2 9 6 4 1 2 8 4 5]\n",
            " [5 9 5 3 8 2 3 1 5 1]\n",
            " [5 2 2 4 8 1 1 6 3 9]\n",
            " [7 3 5 8 6 8 7 7 7 1]\n",
            " [9 6 4 5 5 5 5 8 9 1]\n",
            " [3 7 9 7 2 8 4 9 9 1]\n",
            " [1 9 3 5 5 7 1 3 8 8]\n",
            " [5 7 9 2 7 7 7 9 8 9]], shape=(10, 10), dtype=int32)\n",
            "Tensor 2:\n",
            " tf.Tensor(\n",
            "[[9 8 5 9 8 5 4 4 4 5]\n",
            " [3 1 6 1 5 5 6 8 8 9]\n",
            " [1 5 5 4 1 3 7 9 6 8]\n",
            " [4 8 7 5 4 9 9 4 9 7]\n",
            " [5 7 3 3 2 2 9 6 3 9]\n",
            " [2 3 9 1 4 1 9 6 7 5]\n",
            " [7 7 6 6 8 5 2 3 1 1]\n",
            " [9 6 5 3 6 6 6 5 9 2]\n",
            " [2 6 7 7 6 5 7 7 1 1]\n",
            " [5 1 4 8 3 1 5 5 9 7]], shape=(10, 10), dtype=int32)\n"
          ]
        }
      ],
      "source": [
        "# Convert NumPy arrays to TensorFlow tensors\n",
        "tensor1 = tf.convert_to_tensor(matrix1, dtype=tf.int32)\n",
        "tensor2 = tf.convert_to_tensor(matrix2, dtype=tf.int32)\n",
        "\n",
        "print(\"Tensor 1:\\n\", tensor1)\n",
        "print(\"Tensor 2:\\n\", tensor2)"
      ]
    },
    {
      "cell_type": "code",
      "execution_count": 5,
      "metadata": {
        "colab": {
          "base_uri": "https://localhost:8080/"
        },
        "id": "PRq5Jru2i4xr",
        "outputId": "691186c9-1038-430e-eb8a-8c36fe6b5087"
      },
      "outputs": [
        {
          "name": "stdout",
          "output_type": "stream",
          "text": [
            "Addition Result:\n",
            " tf.Tensor(\n",
            "[[13 14  9 12 14  7 10  8 12 10]\n",
            " [ 6  4 10  6  8  9  7  9 17 13]\n",
            " [ 2  7 14 10  5  4  9 17 10 13]\n",
            " [ 9 17 12  8 12 11 12  5 14  8]\n",
            " [10  9  5  7 10  3 10 12  6 18]\n",
            " [ 9  6 14  9 10  9 16 13 14  6]\n",
            " [16 13 10 11 13 10  7 11 10  2]\n",
            " [12 13 14 10  8 14 10 14 18  3]\n",
            " [ 3 15 10 12 11 12  8 10  9  9]\n",
            " [10  8 13 10 10  8 12 14 17 16]], shape=(10, 10), dtype=int32)\n"
          ]
        }
      ],
      "source": [
        "# Perform matrix addition\n",
        "addition_result = tf.add(tensor1, tensor2)\n",
        "\n",
        "print(\"Addition Result:\\n\", addition_result)"
      ]
    },
    {
      "cell_type": "code",
      "execution_count": 6,
      "metadata": {
        "colab": {
          "base_uri": "https://localhost:8080/"
        },
        "id": "0BWu3aPni79U",
        "outputId": "835121f0-2ec0-4fda-f483-9b34208d296f"
      },
      "outputs": [
        {
          "name": "stdout",
          "output_type": "stream",
          "text": [
            "Multiplication Result:\n",
            " tf.Tensor(\n",
            "[[36 48 20 27 48 10 24 16 32 25]\n",
            " [ 9  3 24  5 15 20  6  8 72 36]\n",
            " [ 1 10 45 24  4  3 14 72 24 40]\n",
            " [20 72 35 15 32 18 27  4 45  7]\n",
            " [25 14  6 12 16  2  9 36  9 81]\n",
            " [14  9 45  8 24  8 63 42 49  5]\n",
            " [63 42 24 30 40 25 10 24  9  1]\n",
            " [27 42 45 21 12 48 24 45 81  2]\n",
            " [ 2 54 21 35 30 35  7 21  8  8]\n",
            " [25  7 36 16 21  7 35 45 72 63]], shape=(10, 10), dtype=int32)\n"
          ]
        }
      ],
      "source": [
        "# Perform matrix multiplication (element-wise)\n",
        "multiplication_result = tf.multiply(tensor1, tensor2)\n",
        "\n",
        "print(\"Multiplication Result:\\n\", multiplication_result)"
      ]
    },
    {
      "cell_type": "code",
      "execution_count": 7,
      "metadata": {
        "colab": {
          "base_uri": "https://localhost:8080/"
        },
        "id": "-hYZxRkjjB51",
        "outputId": "4913cdb6-ac5d-4b63-a029-3c23231629bc"
      },
      "outputs": [
        {
          "name": "stdout",
          "output_type": "stream",
          "text": [
            "Transpose of Matrix 1:\n",
            " tf.Tensor(\n",
            "[[4 3 1 5 5 7 9 3 1 5]\n",
            " [6 3 2 9 2 3 6 7 9 7]\n",
            " [4 4 9 5 2 5 4 9 3 9]\n",
            " [3 5 6 3 4 8 5 7 5 2]\n",
            " [6 3 4 8 8 6 5 2 5 7]\n",
            " [2 4 1 2 1 8 5 8 7 7]\n",
            " [6 1 2 3 1 7 5 4 1 7]\n",
            " [4 1 8 1 6 7 8 9 3 9]\n",
            " [8 9 4 5 3 7 9 9 8 8]\n",
            " [5 4 5 1 9 1 1 1 8 9]], shape=(10, 10), dtype=int32)\n"
          ]
        }
      ],
      "source": [
        "# Compute the transpose of the first matrix\n",
        "transpose_result = tf.transpose(tensor1)\n",
        "\n",
        "print(\"Transpose of Matrix 1:\\n\", transpose_result)"
      ]
    },
    {
      "cell_type": "code",
      "execution_count": 8,
      "metadata": {
        "colab": {
          "base_uri": "https://localhost:8080/"
        },
        "id": "7p426IJ-jGji",
        "outputId": "39fb308c-6e7f-4ec5-e789-9e4b5e9bb1a3"
      },
      "outputs": [
        {
          "name": "stdout",
          "output_type": "stream",
          "text": [
            "Dot Product Result:\n",
            " tf.Tensor(\n",
            "[[223 249 265 237 233 202 296 279 242 248]\n",
            " [137 191 223 188 165 157 257 225 197 196]\n",
            " [189 225 225 194 166 188 283 254 270 235]\n",
            " [178 218 229 179 189 177 278 263 213 266]\n",
            " [223 213 201 217 177 159 267 223 254 243]\n",
            " [286 348 354 272 295 270 389 323 314 287]\n",
            " [288 326 333 273 301 266 361 323 298 273]\n",
            " [243 307 365 241 275 272 400 362 350 295]\n",
            " [188 209 296 212 212 192 348 309 311 296]\n",
            " [323 338 389 323 319 264 438 416 395 368]], shape=(10, 10), dtype=int32)\n"
          ]
        }
      ],
      "source": [
        "# Perform dot product (matrix multiplication)\n",
        "dot_product_result = tf.linalg.matmul(tensor1, tensor2)\n",
        "\n",
        "print(\"Dot Product Result:\\n\", dot_product_result)"
      ]
    },
    {
      "cell_type": "code",
      "execution_count": 9,
      "metadata": {
        "colab": {
          "base_uri": "https://localhost:8080/"
        },
        "id": "mTCu6aaEjSm6",
        "outputId": "cea371c8-b7f9-4ab0-9af8-c78186803de9"
      },
      "outputs": [
        {
          "name": "stdout",
          "output_type": "stream",
          "text": [
            "Inverse Result:\n",
            " tf.Tensor(\n",
            "[[   6021.952   -22438.453    33424.12     36460.79    -14338.321\n",
            "     3760.5505   16746.88    -32005.729   -14892.2705   -5372.948 ]\n",
            " [ -22438.56     83771.4    -124781.29   -136090.06     53520.918\n",
            "   -14070.367   -62518.684   119488.35     55585.34     20051.121 ]\n",
            " [  33424.305  -124781.266   185875.92    202719.02    -79725.49\n",
            "    20959.398    93124.83   -177989.11    -82799.984   -29869.201 ]\n",
            " [  36460.938  -136089.95    202718.9     221095.75    -86951.01\n",
            "    22852.81    101565.08   -194117.95    -90305.84    -32577.22  ]\n",
            " [ -14338.362    53520.805   -79725.34    -86950.91     34197.332\n",
            "    -8989.25    -39943.137    76343.07     35514.082    12811.826 ]\n",
            " [   3760.5632  -14070.358    20959.365    22852.79     -8989.256\n",
            "     2371.5164   10500.1045  -20070.533    -9334.133    -3367.7073]\n",
            " [  16746.967   -62518.645    93124.78    101565.09    -39943.19\n",
            "    10500.112    46659.11    -89174.66    -41484.395   -14964.554 ]\n",
            " [ -32005.885   119488.31   -177989.05   -194118.05     76343.195\n",
            "   -20070.557   -89174.68    170439.3      79285.44     28601.078 ]\n",
            " [ -14892.341    55585.297   -82799.93    -90305.84     35514.117\n",
            "    -9334.139   -41484.383    79285.41     36887.348    13306.587 ]\n",
            " [  -5372.9517   20051.041   -29869.088   -32577.12     12811.8\n",
            "    -3367.6985  -14964.501    28600.977    13306.545     4801.4556]], shape=(10, 10), dtype=float32)\n"
          ]
        }
      ],
      "source": [
        "# Generate a 10x10 matrix with random numbers\n",
        "matrix = np.random.rand(10, 10)\n",
        "\n",
        "# Ensure the matrix is invertible by making it positive definite\n",
        "matrix = np.dot(matrix, matrix.T)\n",
        "tensor = tf.convert_to_tensor(matrix, dtype=tf.float32)\n",
        "# Perform matrix inversion\n",
        "inverse_result = tf.linalg.inv(tensor)\n",
        "\n",
        "print(\"Inverse Result:\\n\", inverse_result)"
      ]
    },
    {
      "cell_type": "code",
      "execution_count": 10,
      "metadata": {
        "colab": {
          "base_uri": "https://localhost:8080/"
        },
        "id": "ieedH_g1jhGw",
        "outputId": "5b2ec054-f0a8-4300-8c1e-c19b64423d57"
      },
      "outputs": [
        {
          "name": "stdout",
          "output_type": "stream",
          "text": [
            "Solution to Ax = b:\n",
            " tf.Tensor(\n",
            "[[  5716.424 ]\n",
            " [-21315.998 ]\n",
            " [ 31751.521 ]\n",
            " [ 34634.13  ]\n",
            " [-13619.799 ]\n",
            " [  3575.4663]\n",
            " [ 15909.234 ]\n",
            " [-30403.639 ]\n",
            " [-14147.259 ]\n",
            " [ -5103.6885]], shape=(10, 1), dtype=float32)\n"
          ]
        }
      ],
      "source": [
        "b = np.random.rand(10, 1)\n",
        "\n",
        "# Convert vector b to TensorFlow tensor\n",
        "b_tensor = tf.convert_to_tensor(b, dtype=tf.float32)\n",
        "\n",
        "# Solve the system of linear equations\n",
        "solution = tf.linalg.solve(tensor, b_tensor)\n",
        "\n",
        "print(\"Solution to Ax = b:\\n\", solution)"
      ]
    },
    {
      "cell_type": "code",
      "execution_count": 11,
      "metadata": {
        "colab": {
          "base_uri": "https://localhost:8080/"
        },
        "id": "GZx16f6Hjn9o",
        "outputId": "bcd31473-3fea-4315-cf31-9d81ac076775"
      },
      "outputs": [
        {
          "name": "stdout",
          "output_type": "stream",
          "text": [
            "Eigenvalues:\n",
            " tf.Tensor(\n",
            "[1.2222206e-06 4.4461872e-02 2.2959661e-01 2.5223997e-01 4.4245708e-01\n",
            " 8.8896793e-01 1.5215180e+00 1.9193226e+00 2.9294190e+00 2.3345608e+01], shape=(10,), dtype=float32)\n",
            "Eigenvectors:\n",
            " tf.Tensor(\n",
            "[[ 0.08711582 -0.6659987   0.02746454  0.19007483 -0.3586632   0.09584018\n",
            "  -0.09198642  0.4133463  -0.3471248   0.27264962]\n",
            " [-0.32520366 -0.12126729  0.585053    0.13079715  0.14796746  0.3605115\n",
            "   0.52263135 -0.2305274  -0.03944309  0.20108978]\n",
            " [ 0.48442248  0.17308053  0.3554858   0.03122576  0.39146653  0.28831467\n",
            "  -0.2948293   0.3775232   0.25542912  0.27743378]\n",
            " [ 0.5283253  -0.3089475   0.10670882 -0.06597169  0.07276046 -0.50525373\n",
            "   0.16832389 -0.4740661   0.10334978  0.29215923]\n",
            " [-0.20777868  0.01667407 -0.23774731 -0.3167431   0.4299117  -0.3302019\n",
            "   0.4104047   0.47972718 -0.10580145  0.3099661 ]\n",
            " [ 0.05461853  0.57850266  0.2605435  -0.17788577 -0.49848002 -0.15462716\n",
            "  -0.00246613  0.02058654 -0.36313656  0.3976631 ]\n",
            " [ 0.24270177  0.03031003 -0.47762042 -0.22771668 -0.29207215  0.5236421\n",
            "   0.36309385 -0.07117082  0.31001124  0.2601627 ]\n",
            " [-0.46387038 -0.22156534  0.09649806 -0.46164757 -0.07671511 -0.01988565\n",
            "  -0.46921954 -0.14234465  0.37276557  0.35726655]\n",
            " [-0.21579248  0.1575538  -0.12530668  0.6965177  -0.15123811 -0.26164788\n",
            "   0.04895437  0.1060873   0.4667961   0.32386696]\n",
            " [-0.07784417  0.08098815 -0.37637788  0.24363223  0.37888813  0.21550135\n",
            "  -0.28337142 -0.37629262 -0.45387435  0.41045132]], shape=(10, 10), dtype=float32)\n"
          ]
        }
      ],
      "source": [
        "# Compute eigenvalues and eigenvectors\n",
        "eigenvalues, eigenvectors = tf.linalg.eigh(tensor)\n",
        "\n",
        "print(\"Eigenvalues:\\n\", eigenvalues)\n",
        "print(\"Eigenvectors:\\n\", eigenvectors)"
      ]
    },
    {
      "cell_type": "code",
      "execution_count": 12,
      "metadata": {
        "colab": {
          "base_uri": "https://localhost:8080/"
        },
        "id": "EZJM7B5Hjs99",
        "outputId": "1f834478-e702-4e9d-933b-0d03c6c7ae06"
      },
      "outputs": [
        {
          "name": "stdout",
          "output_type": "stream",
          "text": [
            "Singular Values:\n",
            " tf.Tensor(\n",
            "[2.3345619e+01 2.9294200e+00 1.9193227e+00 1.5215186e+00 8.8896883e-01\n",
            " 4.4245711e-01 2.5224039e-01 2.2959670e-01 4.4461779e-02 1.0466392e-06], shape=(10,), dtype=float32)\n",
            "Left Singular Vectors (U):\n",
            " tf.Tensor(\n",
            "[[ 0.27264974 -0.3471249  -0.41334754  0.09198223 -0.0958395  -0.3586669\n",
            "   0.19007568  0.02747019 -0.6659965   0.08711651]\n",
            " [ 0.20108958 -0.03944275  0.23053302 -0.5226279  -0.36051092  0.14796618\n",
            "   0.13078101  0.58505744 -0.12126858 -0.3252053 ]\n",
            " [ 0.27743393  0.25542924 -0.37752697  0.29482463 -0.28831404  0.39146796\n",
            "   0.03121478  0.35548767  0.17307915  0.48442215]\n",
            " [ 0.29215917  0.10334962  0.4740669  -0.16832148  0.50525403  0.07275902\n",
            "  -0.06597564  0.1067063  -0.30894735  0.52832586]\n",
            " [ 0.3099663  -0.10580124 -0.47972244 -0.41040912  0.33020017  0.42991194\n",
            "  -0.31673726 -0.23775785  0.01667056 -0.20778126]\n",
            " [ 0.39766318 -0.3631368  -0.02058642  0.00246566  0.15462674 -0.49847668\n",
            "  -0.17789695  0.2605378   0.5785053   0.05461808]\n",
            " [ 0.26016277  0.31001124  0.07117452 -0.36309394 -0.5236439  -0.29207122\n",
            "  -0.2276994  -0.4776271   0.03031155  0.2427014 ]\n",
            " [ 0.35726672  0.37276533  0.14234187  0.46922228  0.01988409 -0.07671654\n",
            "  -0.46165052  0.09648282 -0.22156675 -0.46386796]\n",
            " [ 0.32386705  0.46679643 -0.1060874  -0.04895449  0.2616507  -0.15123802\n",
            "   0.69652027 -0.12528488  0.15755633 -0.21579291]\n",
            " [ 0.41045132 -0.4538745   0.3762897   0.2833751  -0.2155005   0.37888852\n",
            "   0.24364606 -0.37636966  0.08098672 -0.07784303]], shape=(10, 10), dtype=float32)\n",
            "Right Singular Vectors (V):\n",
            " tf.Tensor(\n",
            "[[ 0.27264974 -0.34712484 -0.41334757  0.09198231 -0.09583949 -0.358667\n",
            "   0.19007549  0.02747039 -0.66599566  0.08711965]\n",
            " [ 0.20108955 -0.03944278  0.23053288 -0.5226277  -0.36051074  0.14796597\n",
            "   0.1307811   0.5850575  -0.12126999 -0.32520485]\n",
            " [ 0.27743393  0.25542915 -0.377527    0.29482448 -0.28831428  0.3914677\n",
            "   0.0312148   0.3554877   0.17308168  0.48442107]\n",
            " [ 0.29215914  0.10334961  0.47406685 -0.16832146  0.50525385  0.07275891\n",
            "  -0.06597553  0.10670672 -0.30894482  0.52832764]\n",
            " [ 0.30996627 -0.10580122 -0.47972238 -0.410409    0.33020023  0.42991182\n",
            "  -0.31673723 -0.23775768  0.01666949 -0.20778114]\n",
            " [ 0.39766318 -0.3631369  -0.02058642  0.00246562  0.15462661 -0.49847674\n",
            "  -0.17789671  0.26053742  0.5785056   0.05461512]\n",
            " [ 0.26016274  0.31001118  0.07117448 -0.3630939  -0.5236438  -0.29207122\n",
            "  -0.22769946 -0.4776272   0.03031257  0.24270107]\n",
            " [ 0.3572667   0.3727654   0.14234193  0.46922228  0.01988419 -0.07671649\n",
            "  -0.46165055  0.09648285 -0.22156905 -0.46386695]\n",
            " [ 0.32386702  0.46679643 -0.10608742 -0.04895451  0.2616509  -0.15123774\n",
            "   0.69652015 -0.12528507  0.15755516 -0.21579364]\n",
            " [ 0.41045123 -0.45387447  0.37628973  0.28337497 -0.21550052  0.3788887\n",
            "   0.24364601 -0.3763698   0.08098615 -0.07784335]], shape=(10, 10), dtype=float32)\n"
          ]
        }
      ],
      "source": [
        "# Perform Singular Value Decomposition (SVD)\n",
        "s, u, v = tf.linalg.svd(tensor)\n",
        "\n",
        "print(\"Singular Values:\\n\", s)\n",
        "print(\"Left Singular Vectors (U):\\n\", u)\n",
        "print(\"Right Singular Vectors (V):\\n\", v)"
      ]
    },
    {
      "cell_type": "code",
      "execution_count": 13,
      "metadata": {
        "id": "TRn_P--Wj0jS"
      },
      "outputs": [],
      "source": [
        "# Define the function\n",
        "def function(x):\n",
        "    return x**3 + 2*x**2 + 3*x + 4"
      ]
    },
    {
      "cell_type": "code",
      "execution_count": 14,
      "metadata": {
        "colab": {
          "base_uri": "https://localhost:8080/"
        },
        "id": "yVHnBpaFj-yt",
        "outputId": "ec909eed-cfbb-487a-97d3-6fdf59cc1aca"
      },
      "outputs": [
        {
          "name": "stdout",
          "output_type": "stream",
          "text": [
            "First Derivative at x=1.0: 10.0\n"
          ]
        }
      ],
      "source": [
        "# Calculate the first derivative\n",
        "x = tf.Variable(1.0)  # Define the variable\n",
        "\n",
        "with tf.GradientTape() as tape:\n",
        "    y = function(x)\n",
        "\n",
        "first_derivative = tape.gradient(y, x)\n",
        "\n",
        "print(\"First Derivative at x=1.0:\", first_derivative.numpy())"
      ]
    },
    {
      "cell_type": "code",
      "execution_count": 15,
      "metadata": {
        "colab": {
          "base_uri": "https://localhost:8080/"
        },
        "id": "mHpgPvHekC_I",
        "outputId": "de6ae61f-6c9c-444d-df75-3f63d72fc750"
      },
      "outputs": [
        {
          "name": "stdout",
          "output_type": "stream",
          "text": [
            "Second Derivative at x=1.0: 10.0\n"
          ]
        }
      ],
      "source": [
        "# Calculate the second derivative\n",
        "with tf.GradientTape() as tape2:\n",
        "    with tf.GradientTape() as tape1:\n",
        "        y = function(x)\n",
        "    first_derivative = tape1.gradient(y, x)\n",
        "second_derivative = tape2.gradient(first_derivative, x)\n",
        "\n",
        "print(\"Second Derivative at x=1.0:\", second_derivative.numpy())"
      ]
    },
    {
      "cell_type": "code",
      "execution_count": 16,
      "metadata": {
        "colab": {
          "base_uri": "https://localhost:8080/"
        },
        "id": "ireg0fF3kG3-",
        "outputId": "2c95b9ec-fe0b-47dc-eae5-7ab27ca582f1"
      },
      "outputs": [
        {
          "name": "stdout",
          "output_type": "stream",
          "text": [
            "Third Derivative at x=1.0: 6.0\n"
          ]
        }
      ],
      "source": [
        "# Calculate the third derivative\n",
        "with tf.GradientTape() as tape3:\n",
        "    with tf.GradientTape() as tape2:\n",
        "        with tf.GradientTape() as tape1:\n",
        "            y = function(x)\n",
        "        first_derivative = tape1.gradient(y, x)\n",
        "    second_derivative = tape2.gradient(first_derivative, x)\n",
        "third_derivative = tape3.gradient(second_derivative, x)\n",
        "\n",
        "print(\"Third Derivative at x=1.0:\", third_derivative.numpy())"
      ]
    },
    {
      "cell_type": "code",
      "execution_count": 17,
      "metadata": {
        "id": "snolRdZJkMlG"
      },
      "outputs": [],
      "source": [
        "# Define the sigmoid function\n",
        "def sigmoid(x):\n",
        "    return 1 / (1 + tf.exp(-x))"
      ]
    },
    {
      "cell_type": "code",
      "execution_count": 18,
      "metadata": {
        "colab": {
          "base_uri": "https://localhost:8080/"
        },
        "id": "f7nK90VpkQzl",
        "outputId": "68f3282c-1abb-473c-a0e0-b94994c172e4"
      },
      "outputs": [
        {
          "name": "stdout",
          "output_type": "stream",
          "text": [
            "Gradient of the Sigmoid Function at x=1.0: 0.19661194\n"
          ]
        }
      ],
      "source": [
        "# Define the variable\n",
        "x = tf.Variable(1.0)\n",
        "\n",
        "# Calculate the gradient\n",
        "with tf.GradientTape() as tape:\n",
        "    y = sigmoid(x)\n",
        "\n",
        "gradient = tape.gradient(y, x)\n",
        "\n",
        "print(\"Gradient of the Sigmoid Function at x=1.0:\", gradient.numpy())"
      ]
    },
    {
      "cell_type": "code",
      "execution_count": 19,
      "metadata": {
        "colab": {
          "base_uri": "https://localhost:8080/"
        },
        "id": "mmnORIqukU78",
        "outputId": "735b7da6-2a49-42a9-9f37-9378a85ba53b"
      },
      "outputs": [
        {
          "name": "stdout",
          "output_type": "stream",
          "text": [
            "Second Derivative of the Sigmoid Function at x=1.0: -0.09085775\n"
          ]
        }
      ],
      "source": [
        "# Calculate the second derivative\n",
        "with tf.GradientTape() as tape2:\n",
        "    with tf.GradientTape() as tape1:\n",
        "        y = sigmoid(x)\n",
        "    first_derivative = tape1.gradient(y, x)\n",
        "second_derivative = tape2.gradient(first_derivative, x)\n",
        "\n",
        "print(\"Second Derivative of the Sigmoid Function at x=1.0:\", second_derivative.numpy())"
      ]
    },
    {
      "cell_type": "code",
      "execution_count": 20,
      "metadata": {
        "colab": {
          "base_uri": "https://localhost:8080/"
        },
        "id": "OkFkCPB3kYxY",
        "outputId": "e073fafa-9c13-4570-87a5-f154404b45ae"
      },
      "outputs": [
        {
          "name": "stdout",
          "output_type": "stream",
          "text": [
            "Third Derivative of the Sigmoid Function at x=1.0: -0.035325572\n"
          ]
        }
      ],
      "source": [
        "# Calculate the third derivative\n",
        "with tf.GradientTape() as tape3:\n",
        "    with tf.GradientTape() as tape2:\n",
        "        with tf.GradientTape() as tape1:\n",
        "            y = sigmoid(x)\n",
        "        first_derivative = tape1.gradient(y, x)\n",
        "    second_derivative = tape2.gradient(first_derivative, x)\n",
        "third_derivative = tape3.gradient(second_derivative, x)\n",
        "\n",
        "print(\"Third Derivative of the Sigmoid Function at x=1.0:\", third_derivative.numpy())"
      ]
    }
  ],
  "metadata": {
    "colab": {
      "provenance": []
    },
    "kernelspec": {
      "display_name": "Python 3",
      "name": "python3"
    },
    "language_info": {
      "codemirror_mode": {
        "name": "ipython",
        "version": 3
      },
      "file_extension": ".py",
      "mimetype": "text/x-python",
      "name": "python",
      "nbconvert_exporter": "python",
      "pygments_lexer": "ipython3",
      "version": "3.12.2"
    }
  },
  "nbformat": 4,
  "nbformat_minor": 0
}
